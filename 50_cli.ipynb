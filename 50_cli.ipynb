{
 "cells": [
  {
   "cell_type": "code",
   "execution_count": null,
   "metadata": {},
   "outputs": [],
   "source": [
    "# default_exp cli"
   ]
  },
  {
   "cell_type": "markdown",
   "metadata": {},
   "source": [
    "# CLI\n",
    "\n",
    "> Command line tools for working with storage."
   ]
  },
  {
   "cell_type": "code",
   "execution_count": null,
   "metadata": {},
   "outputs": [],
   "source": [
    "#export\n",
    "from storage_tools.core import *\n",
    "from fastcore.script import *"
   ]
  },
  {
   "cell_type": "code",
   "execution_count": null,
   "metadata": {},
   "outputs": [],
   "source": [
    "#export\n",
    "@call_parse\n",
    "def upload_dataset(storage_name:Param('Section name in config',str),\n",
    "                   dataset_name:Param('Dataset name',str),\n",
    "                   config_name:Param('Path to config',str)='secrets/settings.ini',\n",
    "                   dataset_version:Param('Dataset version',str)='patch'):\n",
    "    \"Create a new dataset archive and upload it to remote storage\"\n",
    "    r=new_storage_client(storage_name,config_name).upload_dataset(dataset_name,dataset_version)\n",
    "    print('Dataset uploaded to',r)"
   ]
  },
  {
   "cell_type": "code",
   "execution_count": null,
   "metadata": {},
   "outputs": [],
   "source": [
    "#export\n",
    "@call_parse\n",
    "def download_dataset(storage_name:Param('Section name in config',str),\n",
    "                     dataset_name:Param('Dataset name',str),\n",
    "                     config_name:Param('Path to config',str)='secrets/settings.ini',\n",
    "                     dataset_version:Param('Dataset version',str)='latest',\n",
    "                     overwrite:Param('If True, delete the dataset and re-download',bool)=False):\n",
    "    \"Download a dataset archive from remote storage\"\n",
    "    l=new_storage_client(storage_name,config_name).download_dataset(dataset_name,dataset_version,overwrite)\n",
    "    print('Dataset downloaded to',l)"
   ]
  },
  {
   "cell_type": "markdown",
   "metadata": {},
   "source": [
    "If we have a project folder containing\n",
    "\n",
    "<pre>\n",
    "project_root\n",
    "  &angrt; data\n",
    "    &angrt; mnist\n",
    "      &angrt; hand_drawn_digits\n",
    "        &angrt; digit0.png\n",
    "        &angrt; digit1.png\n",
    "        &angrt; ...\n",
    "  &angrt; secrets\n",
    "    &angrt; settings.ini\n",
    "&angrt; main.py\n",
    "</pre>\n",
    "\n",
    "where `settings.ini` contains\n",
    "\n",
    "```\n",
    "[DEFAULT]\n",
    "local_path=data\n",
    "\n",
    "[azure_demo]\n",
    "storage_client=storage_tools.core.AzureStorageClient\n",
    "conn_str=<A connection string to an Azure Storage account without credential>\n",
    "credential=<The credentials with which to authenticate>\n",
    "container=<The name of a storage container>\n",
    "```\n",
    "\n",
    "We can\n",
    "\n",
    "### Create a new version of a dataset\n",
    "\n",
    "```\n",
    "upload_dataset azure_demo mnist/hand_drawn_digits --dataset_version=major\n",
    "```\n",
    "\n",
    "### Download the latest version of a dataset\n",
    "\n",
    "Feel free to delete your local copy of this dataset (from data) to download from azure storage.\n",
    "\n",
    "```\n",
    "download_dataset azure_demo mnist/hand_drawn_digits\n",
    "```"
   ]
  },
  {
   "cell_type": "code",
   "execution_count": null,
   "metadata": {},
   "outputs": [],
   "source": [
    "#hide\n",
    "import shutil\n",
    "from pathlib import Path\n",
    "def _rmtree(p):\n",
    "    try: shutil.rmtree(p)\n",
    "    except FileNotFoundError: pass"
   ]
  },
  {
   "cell_type": "code",
   "execution_count": null,
   "metadata": {},
   "outputs": [],
   "source": [
    "def _make_local_test_data():\n",
    "    test_files=['a/b/test_data.txt','a/b/more_test_data.txt']\n",
    "    for i,f in enumerate(test_files):\n",
    "        f='test/local_path/'+f\n",
    "        Path(f).parent.mkdir(parents=True,exist_ok=True)\n",
    "        with open(f, 'w') as _file: _file.write(f'a little bit of data {i}')\n",
    "    return test_files"
   ]
  },
  {
   "cell_type": "code",
   "execution_count": null,
   "metadata": {},
   "outputs": [
    {
     "name": "stdout",
     "output_type": "stream",
     "text": [
      "Dataset uploaded to test\\storage_area\\a.3.0.0.zip\n",
      "Dataset uploaded to test\\storage_area\\a.3.0.1.zip\n",
      "Dataset downloaded to test\\local_path\\a.3.0.1\n",
      "Dataset downloaded to test\\local_path\\a.3.0.0\n",
      "Dataset downloaded to test\\local_path\\a.3.0.0\n",
      "Dataset downloaded to test\\local_path\\a.3.0.0\n"
     ]
    }
   ],
   "source": [
    "for p in ['test/local_path','test/storage_area']: _rmtree(p)\n",
    "\n",
    "test_files=_make_local_test_data()\n",
    "\n",
    "def _t(expected,upload_name,version='patch'):\n",
    "    upload_dataset('local_test',upload_name,'test/settings.ini',version)\n",
    "_t('a.3.0.0.zip','a','3.0.0')\n",
    "_t('a.3.0.1.zip','a')\n",
    "# TODO: check zip contents\n",
    "_rmtree('test/local_path/a.3.0.0')\n",
    "_rmtree('test/local_path/a.3.0.1')\n",
    "\n",
    "download_dataset('local_test','a','test/settings.ini')\n",
    "download_dataset('local_test','a','test/settings.ini','3.0.0')\n",
    "download_dataset('local_test','a','test/settings.ini','3.0.0')\n",
    "download_dataset('local_test','a','test/settings.ini','3.0.0',True)"
   ]
  },
  {
   "cell_type": "markdown",
   "metadata": {},
   "source": [
    "If you have datasets uploaded with with `storage-tools 0.0.3` or earlier, you can \n",
    "\n",
    "### add standalone manifest files\n",
    "\n",
    "```\n",
    "add_standalone_manifest azure_demo mnist/hand_drawn_digits\n",
    "```\n",
    "\n",
    "Note: If your dataset does not contain a manifest, this command will not fail ... but you won't get a standalone manifest either."
   ]
  },
  {
   "cell_type": "code",
   "execution_count": null,
   "metadata": {},
   "outputs": [],
   "source": [
    "#export\n",
    "@call_parse\n",
    "def add_standalone_manifest(storage_name:Param('Section name in config',str),\n",
    "                            dataset_name:Param('Dataset name',str),\n",
    "                            config_name:Param('Path to config',str)='secrets/settings.ini'):\n",
    "    \"Add stand-alone manifest files for datasets created with `storage-tools 0.0.3` and earlier\"\n",
    "    storage_client=new_storage_client(storage_name,config_name)\n",
    "    existing_names=[f.name for f in storage_client.ls(name_starts_with=dataset_name)]\n",
    "    for version in storage_client.ls_versions(dataset_name):\n",
    "        mf=f'{dataset_name}.{version}.manifest.json'\n",
    "        if mf not in existing_names:\n",
    "            r=storage_client.download_dataset(dataset_name,version)\n",
    "            try:\n",
    "                print('Manifest uploaded to',storage_client._upload_manifest(r))\n",
    "            except FileNotFoundError as e:\n",
    "                print('Manifest not uploaded.',e)"
   ]
  },
  {
   "cell_type": "code",
   "execution_count": null,
   "metadata": {},
   "outputs": [
    {
     "name": "stdout",
     "output_type": "stream",
     "text": [
      "Manifest uploaded to test\\storage_area\\a.3.0.0.manifest.json\n",
      "Manifest uploaded to test\\storage_area\\a.3.0.1.manifest.json\n"
     ]
    }
   ],
   "source": [
    "# clear out all a.3.0.x data except for the dataset in \"remote storage\"\n",
    "for f in ['a.3.0.0','a.3.0.1']:\n",
    "    _rmtree(f'test/local_path/{f}')\n",
    "    Path(f'test/local_path/{f}.zip').unlink()\n",
    "    Path(f'test/local_path/{f}.manifest.json').unlink()\n",
    "    Path(f'test/storage_area/{f}.manifest.json').unlink()\n",
    "    \n",
    "add_standalone_manifest('local_test','a','test/settings.ini')"
   ]
  },
  {
   "cell_type": "code",
   "execution_count": null,
   "metadata": {},
   "outputs": [],
   "source": [
    "for p in ['test/local_path','test/storage_area']: _rmtree(p)"
   ]
  }
 ],
 "metadata": {
  "kernelspec": {
   "display_name": "Python 3",
   "language": "python",
   "name": "python3"
  }
 },
 "nbformat": 4,
 "nbformat_minor": 2
}
