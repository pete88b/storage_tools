{
 "cells": [
  {
   "cell_type": "code",
   "execution_count": null,
   "metadata": {},
   "outputs": [],
   "source": [
    "#hide\n",
    "from storage_tools.core import *"
   ]
  },
  {
   "cell_type": "markdown",
   "metadata": {},
   "source": [
    "# Storage tools\n",
    "\n",
    "> The goal of this project is to make it easy to work with local or cloud storage as part of a data science workflow."
   ]
  },
  {
   "cell_type": "markdown",
   "metadata": {},
   "source": [
    "## Install"
   ]
  },
  {
   "cell_type": "markdown",
   "metadata": {},
   "source": [
    "`pip install storage_tools`"
   ]
  },
  {
   "cell_type": "markdown",
   "metadata": {},
   "source": [
    "## How to use"
   ]
  },
  {
   "cell_type": "markdown",
   "metadata": {},
   "source": [
    "Fill me in please! Don't forget code examples:"
   ]
  },
  {
   "cell_type": "code",
   "execution_count": null,
   "metadata": {},
   "outputs": [
    {
     "data": {
      "text/plain": [
       "2"
      ]
     },
     "execution_count": null,
     "metadata": {},
     "output_type": "execute_result"
    }
   ],
   "source": [
    "1+1"
   ]
  },
  {
   "cell_type": "markdown",
   "metadata": {},
   "source": [
    "# Developers\n",
    "\n",
    "```\n",
    "git config --global core.autocrlf input\n",
    "```\n",
    "\n",
    "```\n",
    "!pip install fastcore\n",
    "!pip install boto3\n",
    "!pip install azure-storage-blob\n",
    "```"
   ]
  },
  {
   "cell_type": "markdown",
   "metadata": {},
   "source": [
    "## Type checking with mypy\n",
    "\n",
    "```\n",
    "!pip install mypy\n",
    "```\n",
    "\n",
    "Then from the storage_tools project folder\n",
    "```\n",
    "nbdev_build_lib\n",
    "mypy storage_tools/core.py\n",
    "```\n",
    "\n",
    "For now, I'm ignoring the \"Skipping analyzing 'azure': found module but no type hints or library stubs\" error"
   ]
  }
 ],
 "metadata": {
  "kernelspec": {
   "display_name": "Python 3",
   "language": "python",
   "name": "python3"
  }
 },
 "nbformat": 4,
 "nbformat_minor": 2
}
